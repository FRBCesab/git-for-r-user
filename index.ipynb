{
  "cells": [
    {
      "cell_type": "raw",
      "metadata": {},
      "source": [
        "---\n",
        "from: markdown+emoji\n",
        "format:\n",
        "  revealjs:\n",
        "    logo: img/cesab-logo.png\n",
        "    footer: \"A gentle introduction to git for R users\"\n",
        "    smaller: false\n",
        "    theme: league\n",
        "---"
      ],
      "id": "53ac98a1"
    },
    {
      "cell_type": "markdown",
      "metadata": {},
      "source": [
        "```{css echo=FALSE}\n",
        ".zmaller {\n",
        "font-size: 2px;\n",
        "}\n",
        "```\n",
        "\n",
        "\n",
        "<!-- Title slide -->\n",
        "\n",
        "<br>\n",
        "<br>\n",
        "<br>\n",
        "\n",
        ":::: {.columns}\n",
        "\n",
        "::: {.column width=\"30%\"}\n",
        "![](./img/git-logo.png)\n",
        ":::\n",
        "\n",
        "::: {.column width=\"70%\"}\n",
        "\n",
        "## An introduction to git for R users {.smaller}\n",
        "\n",
        "<hr />\n",
        "\n",
        "<br>\n",
        "\n",
        "**Nicolas Casajus**\n",
        "\n",
        "::: {.zmaller}\n",
        "\n",
        "\n",
        "{{< fa house >}}\n",
        "\n",
        "\n",
        "{{< fa envelope >}}\n",
        "\n",
        "\n",
        "{{< fa brands github >}}\n",
        "\n",
        "\n",
        "\n",
        ":::\n",
        "\n",
        ":::\n",
        "\n",
        "::::"
      ],
      "id": "7bf4ef62"
    },
    {
      "cell_type": "markdown",
      "metadata": {},
      "source": [
        "---\n",
        "\n",
        "Work in progress..."
      ],
      "id": "c4fb1b4d"
    }
  ],
  "metadata": {
    "kernelspec": {
      "display_name": "Python 3",
      "language": "python",
      "name": "python3"
    }
  },
  "nbformat": 4,
  "nbformat_minor": 5
}